{
 "cells": [
  {
   "cell_type": "code",
   "execution_count": 3,
   "id": "42345b8a",
   "metadata": {},
   "outputs": [],
   "source": [
    "import torch\n",
    "import torch.nn as nn"
   ]
  },
  {
   "cell_type": "code",
   "execution_count": 4,
   "id": "7799712e",
   "metadata": {},
   "outputs": [],
   "source": [
    "N_EMBED = 256"
   ]
  },
  {
   "cell_type": "code",
   "execution_count": 5,
   "id": "54e1badc",
   "metadata": {},
   "outputs": [],
   "source": [
    "class MLP(nn.Module):\n",
    "    def __init__(self,n_embd=N_EMBED):\n",
    "        super().__init__()\n",
    "        self.n_embed = n_embd\n",
    "        self.c_fc = nn.Linear(self.n_embed, self.n_embed * 4)\n",
    "        self.gelu = nn.GELU(approximate=\"tanh\")\n",
    "        self.c_proj = nn.Linear(self.n_embed * 4, self.n_embed)\n",
    "\n",
    "    def forward(self, x):\n",
    "        x = self.c_fc(x)\n",
    "        x = self.gelu(x)\n",
    "        x = self.c_proj(x)\n",
    "        return x"
   ]
  },
  {
   "cell_type": "code",
   "execution_count": 6,
   "id": "96a309f3",
   "metadata": {},
   "outputs": [],
   "source": [
    "batchSize = 64\n",
    "embdSize = 128\n",
    "\n",
    "mlp = MLP(n_embd=embdSize)\n",
    "x = torch.randn(batchSize, embdSize)"
   ]
  },
  {
   "cell_type": "code",
   "execution_count": 7,
   "id": "2f0c56e5",
   "metadata": {},
   "outputs": [
    {
     "name": "stdout",
     "output_type": "stream",
     "text": [
      "Output shape: torch.Size([64, 128])\n"
     ]
    }
   ],
   "source": [
    "output = mlp(x)\n",
    "print(\"Output shape:\", output.shape)"
   ]
  }
 ],
 "metadata": {
  "kernelspec": {
   "display_name": ".venv",
   "language": "python",
   "name": "python3"
  },
  "language_info": {
   "codemirror_mode": {
    "name": "ipython",
    "version": 3
   },
   "file_extension": ".py",
   "mimetype": "text/x-python",
   "name": "python",
   "nbconvert_exporter": "python",
   "pygments_lexer": "ipython3",
   "version": "3.10.11"
  }
 },
 "nbformat": 4,
 "nbformat_minor": 5
}

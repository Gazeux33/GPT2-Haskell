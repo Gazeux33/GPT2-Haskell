{
 "cells": [
  {
   "cell_type": "code",
   "execution_count": 11,
   "id": "829a6568",
   "metadata": {},
   "outputs": [],
   "source": [
    "{-# LANGUAGE RecordWildCards #-}\n",
    "import GHC.Generics\n",
    "import Torch\n",
    "import Torch.NN as NN\n",
    "import Torch.Functional as F\n",
    "import Torch.Functional.Internal as FI\n",
    "\n",
    "import Torch.TensorFactories\n",
    "import Torch.TensorOptions\n",
    "\n",
    "import Control.Monad (when)"
   ]
  },
  {
   "cell_type": "code",
   "execution_count": 12,
   "id": "1f1e162e",
   "metadata": {},
   "outputs": [
    {
     "data": {
      "text/html": [
       "<style>/* Styles used for the Hoogle display in the pager */\n",
       ".hoogle-doc {\n",
       "display: block;\n",
       "padding-bottom: 1.3em;\n",
       "padding-left: 0.4em;\n",
       "}\n",
       ".hoogle-code {\n",
       "display: block;\n",
       "font-family: monospace;\n",
       "white-space: pre;\n",
       "}\n",
       ".hoogle-text {\n",
       "display: block;\n",
       "}\n",
       ".hoogle-name {\n",
       "color: green;\n",
       "font-weight: bold;\n",
       "}\n",
       ".hoogle-head {\n",
       "font-weight: bold;\n",
       "}\n",
       ".hoogle-sub {\n",
       "display: block;\n",
       "margin-left: 0.4em;\n",
       "}\n",
       ".hoogle-package {\n",
       "font-weight: bold;\n",
       "font-style: italic;\n",
       "}\n",
       ".hoogle-module {\n",
       "font-weight: bold;\n",
       "}\n",
       ".hoogle-class {\n",
       "font-weight: bold;\n",
       "}\n",
       ".get-type {\n",
       "color: green;\n",
       "font-weight: bold;\n",
       "font-family: monospace;\n",
       "display: block;\n",
       "white-space: pre-wrap;\n",
       "}\n",
       ".show-type {\n",
       "color: green;\n",
       "font-weight: bold;\n",
       "font-family: monospace;\n",
       "margin-left: 1em;\n",
       "}\n",
       ".mono {\n",
       "font-family: monospace;\n",
       "display: block;\n",
       "}\n",
       ".err-msg {\n",
       "color: red;\n",
       "font-style: italic;\n",
       "font-family: monospace;\n",
       "white-space: pre;\n",
       "display: block;\n",
       "}\n",
       "#unshowable {\n",
       "color: red;\n",
       "font-weight: bold;\n",
       "}\n",
       ".err-msg.in.collapse {\n",
       "padding-top: 0.7em;\n",
       "}\n",
       ".highlight-code {\n",
       "white-space: pre;\n",
       "font-family: monospace;\n",
       "}\n",
       ".suggestion-warning { \n",
       "font-weight: bold;\n",
       "color: rgb(200, 130, 0);\n",
       "}\n",
       ".suggestion-error { \n",
       "font-weight: bold;\n",
       "color: red;\n",
       "}\n",
       ".suggestion-name {\n",
       "font-weight: bold;\n",
       "}\n",
       "</style><div class=\"suggestion-name\" style=\"clear:both;\">Use newtype instead of data</div><div class=\"suggestion-row\" style=\"float: left;\"><div class=\"suggestion-warning\">Found:</div><div class=\"highlight-code\" id=\"haskell\">data Config\n",
       "  = Config {configNEmbd :: Int}\n",
       "  deriving (Show, Eq)</div></div><div class=\"suggestion-row\" style=\"float: left;\"><div class=\"suggestion-warning\">Why Not:</div><div class=\"highlight-code\" id=\"haskell\">newtype Config\n",
       "  = Config {configNEmbd :: Int}\n",
       "  deriving (Show, Eq)</div></div>"
      ],
      "text/plain": [
       "Line 1: Use newtype instead of data\n",
       "Found:\n",
       "data Config\n",
       "  = Config {configNEmbd :: Int}\n",
       "  deriving (Show, Eq)\n",
       "Why not:\n",
       "newtype Config\n",
       "  = Config {configNEmbd :: Int}\n",
       "  deriving (Show, Eq)"
      ]
     },
     "metadata": {},
     "output_type": "display_data"
    }
   ],
   "source": [
    "data Config = Config\n",
    "  { configNEmbd :: Int\n",
    "  } deriving (Show, Eq)"
   ]
  },
  {
   "cell_type": "code",
   "execution_count": 13,
   "id": "eb1bb822",
   "metadata": {},
   "outputs": [],
   "source": [
    "data MLP = MLP\n",
    "  { fcLayer :: Linear\n",
    "  , projLayer :: Linear\n",
    "  , nEmbd :: Int\n",
    "  } deriving (Generic, Show)"
   ]
  },
  {
   "cell_type": "code",
   "execution_count": 14,
   "id": "fd513eb5",
   "metadata": {},
   "outputs": [],
   "source": [
    "mlpInit :: Config -> IO MLP\n",
    "mlpInit Config{..} = do\n",
    "  \n",
    "  fcLayer <- sample (LinearSpec configNEmbd (4 * configNEmbd))\n",
    "  projLayer <- sample (LinearSpec (4 * configNEmbd) configNEmbd)\n",
    "     \n",
    "  return MLP\n",
    "    { fcLayer = fcLayer\n",
    "    , projLayer = projLayer\n",
    "    , nEmbd = configNEmbd\n",
    "    }"
   ]
  },
  {
   "cell_type": "code",
   "execution_count": null,
   "id": "182c21ac",
   "metadata": {},
   "outputs": [],
   "source": [
    "mlpForward :: MLP -> Tensor -> Tensor\n",
    "mlpForward MLP{..} x = let\n",
    " fc = FI.gelu $ NN.linear fcLayer x\n",
    " proj = NN.linear projLayer fc\n",
    "  in \n",
    "   proj"
   ]
  },
  {
   "cell_type": "code",
   "execution_count": 22,
   "id": "dcab40cd",
   "metadata": {},
   "outputs": [],
   "source": [
    "batchSize = 64\n",
    "embdSize = 128"
   ]
  },
  {
   "cell_type": "code",
   "execution_count": 23,
   "id": "d7d8fd33",
   "metadata": {},
   "outputs": [],
   "source": [
    "mlp <- mlpInit (Config embdSize)"
   ]
  },
  {
   "cell_type": "code",
   "execution_count": 24,
   "id": "57c1e5e7",
   "metadata": {},
   "outputs": [
    {
     "data": {
      "text/plain": [
       "x_example:[64,128]"
      ]
     },
     "metadata": {},
     "output_type": "display_data"
    }
   ],
   "source": [
    "x_example <- randnIO' [batchSize, embdSize]\n",
    "putStrLn $ \"x_example:\" ++ show (shape x_example)"
   ]
  },
  {
   "cell_type": "code",
   "execution_count": 26,
   "id": "0c5f6445",
   "metadata": {},
   "outputs": [
    {
     "data": {
      "text/plain": [
       "output:[64,128]"
      ]
     },
     "metadata": {},
     "output_type": "display_data"
    }
   ],
   "source": [
    "output = mlpForward mlp x_example\n",
    "putStrLn $ \"output:\" ++ show (shape output)\n"
   ]
  }
 ],
 "metadata": {
  "kernelspec": {
   "display_name": "Haskell",
   "language": "haskell",
   "name": "haskell"
  },
  "language_info": {
   "codemirror_mode": "ihaskell",
   "file_extension": ".hs",
   "mimetype": "text/x-haskell",
   "name": "haskell",
   "pygments_lexer": "Haskell",
   "version": "9.2.5"
  }
 },
 "nbformat": 4,
 "nbformat_minor": 5
}

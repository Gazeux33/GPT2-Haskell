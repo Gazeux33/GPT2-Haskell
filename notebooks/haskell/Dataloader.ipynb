{
 "cells": [
  {
   "cell_type": "code",
   "execution_count": 1,
   "id": "e94faa98",
   "metadata": {},
   "outputs": [],
   "source": [
    "import Torch"
   ]
  },
  {
   "cell_type": "code",
   "execution_count": 2,
   "id": "7ddbe4f5",
   "metadata": {},
   "outputs": [
    {
     "data": {
      "text/plain": [
       "[1000]"
      ]
     },
     "metadata": {},
     "output_type": "display_data"
    }
   ],
   "source": [
    "input = asTensor ([1..1000] :: [Int])\n",
    "shape input"
   ]
  },
  {
   "cell_type": "code",
   "execution_count": 3,
   "id": "19a09a01",
   "metadata": {},
   "outputs": [],
   "source": [
    "type DataLoader = [(Tensor, Tensor)]"
   ]
  },
  {
   "cell_type": "code",
   "execution_count": 7,
   "id": "9ddc4223",
   "metadata": {},
   "outputs": [],
   "source": [
    "import Torch.Functional as F\n",
    "import Torch.Functional.Internal as FI"
   ]
  },
  {
   "cell_type": "code",
   "execution_count": 14,
   "id": "286975cf",
   "metadata": {},
   "outputs": [],
   "source": [
    "chunksOf :: Int -> [a] -> [[a]]\n",
    "chunksOf _ [] = []\n",
    "chunksOf n xs = let (chunk, rest) = splitAt n xs in chunk : chunksOf n rest\n",
    "\n",
    "\n",
    "\n",
    "-- | Construit un DataLoader à partir d'un tensor 1-D de tokens de longueur N.\n",
    "createDataLoader\n",
    "  :: Int     -- ^ batchSize\n",
    "  -> Int     -- ^ seqLen\n",
    "  -> Tensor  -- ^ tokens de forme [N]\n",
    "  -> DataLoader\n",
    "createDataLoader batchSize seqLen tokens = \n",
    "  let \n",
    "    -- Get tensor size as Int\n",
    "    tokenSize = Torch.size 0 tokens \n",
    "    \n",
    "    -- Créer les entrées (x): tranches de longueur seqLen\n",
    "    createInputs = \n",
    "      [ FI.slice tokens 0 i (i + seqLen) 1\n",
    "      | i <- [0 .. tokenSize - seqLen - 1] ]\n",
    "    \n",
    "    -- Créer les cibles (y): tranches de longueur seqLen décalées de 1\n",
    "    createTargets = \n",
    "      [ FI.slice tokens 0 (i + 1) (i + seqLen + 1) 1\n",
    "      | i <- [0 .. tokenSize - seqLen - 1] ]\n",
    "    \n",
    "    -- Combiner les entrées et les cibles en un dataset\n",
    "    dataset = zip createInputs createTargets\n",
    "    \n",
    "    -- Découper en batchs de taille batchSize\n",
    "    batches = filter (\\chunk -> length chunk == batchSize) (chunksOf batchSize dataset)\n",
    "    \n",
    "    -- Traiter chaque batch pour créer des tensors empilés\n",
    "    processBatch batch =\n",
    "      let inputs = map fst batch\n",
    "          targets = map snd batch\n",
    "          inputBatch = Torch.stack (Dim 0) inputs    -- [B, T]\n",
    "          targetBatch = Torch.stack (Dim 0) targets  -- [B, T]\n",
    "      in (inputBatch, targetBatch)\n",
    "    \n",
    "  in map processBatch batches"
   ]
  }
 ],
 "metadata": {
  "kernelspec": {
   "display_name": "Haskell",
   "language": "haskell",
   "name": "haskell"
  },
  "language_info": {
   "codemirror_mode": "ihaskell",
   "file_extension": ".hs",
   "mimetype": "text/x-haskell",
   "name": "haskell",
   "pygments_lexer": "Haskell",
   "version": "9.2.5"
  }
 },
 "nbformat": 4,
 "nbformat_minor": 5
}

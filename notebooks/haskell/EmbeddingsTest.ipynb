{
 "cells": [
  {
   "cell_type": "code",
   "execution_count": 37,
   "id": "a4ce46f9",
   "metadata": {},
   "outputs": [],
   "source": [
    "import Torch\n",
    "import qualified Torch.Functional as F"
   ]
  },
  {
   "cell_type": "code",
   "execution_count": 36,
   "id": "0b56590f",
   "metadata": {},
   "outputs": [],
   "source": [
    "vocabSize = 30000\n",
    "nEmbd = 768\n",
    "\n",
    "batchSize = 2\n",
    "seqLen = 128"
   ]
  },
  {
   "cell_type": "code",
   "execution_count": 34,
   "id": "10bd5ef2",
   "metadata": {},
   "outputs": [
    {
     "data": {
      "text/plain": [
       "[2,3]"
      ]
     },
     "metadata": {},
     "output_type": "display_data"
    }
   ],
   "source": [
    "input = asTensor ([[1,2,3],[1,2,3]] :: [[Int]])\n",
    "shape input"
   ]
  },
  {
   "cell_type": "code",
   "execution_count": 35,
   "id": "31bf8366",
   "metadata": {},
   "outputs": [
    {
     "data": {
      "text/plain": [
       "[30000,768]"
      ]
     },
     "metadata": {},
     "output_type": "display_data"
    }
   ],
   "source": [
    "embed_weight <- randIO' [vocabSize, nEmbd]\n",
    "shape embed_weight"
   ]
  },
  {
   "cell_type": "code",
   "execution_count": null,
   "id": "93aeaee6",
   "metadata": {},
   "outputs": [
    {
     "ename": "",
     "evalue": "",
     "output_type": "error",
     "traceback": [
      "CppStdException e \"Expected tensor for argument #1 'indices' to have one of the following scalar types: Long, Int; but got CPUFloatType instead (while checking arguments for embedding)\\nException raised from checkScalarTypes at ../aten/src/ATen/TensorUtils.cpp:187 (most recent call first):\\nframe #0: c10::Error::Error(c10::SourceLocation, std::__cxx11::basic_string<char, std::char_traits<char>, std::allocator<char> >) + 0x6b (0x7fffe46d77ab in /lib/libc10.so)\\nframe #1: c10::detail::torchCheckFail(char const*, char const*, unsigned int, std::__cxx11::basic_string<char, std::char_traits<char>, std::allocator<char> > const&) + 0xce (0x7fffe46d315e in /lib/libc10.so)\\nframe #2: at::checkScalarTypes(char const*, at::TensorArg const&, c10::ArrayRef<c10::ScalarType>) + 0xdc6 (0x7fff89f1dfa6 in /lib/libtorch_cpu.so)\\nframe #3: at::native::embedding(at::Tensor const&, at::Tensor const&, long, bool, bool) + 0x70 (0x7fff8a187d60 in /lib/libtorch_cpu.so)\\nframe #4: <unknown function> + 0x1e3c4e2 (0x7fff8ac874e2 in /lib/libtorch_cpu.so)\\nframe #5: at::_ops::embedding::redispatch(c10::DispatchKeySet, at::Tensor const&, at::Tensor const&, long, bool, bool) + 0x104 (0x7fff8aaabb54 in /lib/libtorch_cpu.so)\\nframe #6: <unknown function> + 0x2ce3988 (0x7fff8bb2e988 in /lib/libtorch_cpu.so)\\nframe #7: <unknown function> + 0x2ce3f55 (0x7fff8bb2ef55 in /lib/libtorch_cpu.so)\\nframe #8: at::_ops::embedding::call(at::Tensor const&, at::Tensor const&, long, bool, bool) + 0x196 (0x7fff8aae90e6 in /lib/libtorch_cpu.so)\\nframe #9: inline_c_Torch_Internal_Unmanaged_Native_Native2_119 + 0x64 (0x7fffde33d3b6 in /home/ubuntu/.cabal/lib/x86_64-linux-ghc-9.2.5/libHSlibtorch-ffi-1.11.0.0-F9DoUqwdg6nIMuLWcFQ8mU-ghc9.2.5.so)\\nframe #10: <unknown function> + 0xd559fd (0x7fffde3149fd in /home/ubuntu/.cabal/lib/x86_64-linux-ghc-9.2.5/libHSlibtorch-ffi-1.11.0.0-F9DoUqwdg6nIMuLWcFQ8mU-ghc9.2.5.so)\\n\"(Just \"c10::Error\")"
     ]
    }
   ],
   "source": [
    "-- output =  F.embedding' embed_weight input\n",
    "-- shape output"
   ]
  },
  {
   "cell_type": "code",
   "execution_count": 38,
   "id": "25786368",
   "metadata": {},
   "outputs": [
    {
     "data": {
      "text/plain": [
       "[2,3,768]"
      ]
     },
     "metadata": {},
     "output_type": "display_data"
    }
   ],
   "source": [
    "output = F.embedding False False embed_weight 0 input\n",
    "shape output"
   ]
  },
  {
   "cell_type": "code",
   "execution_count": 51,
   "id": "e3a9ae35",
   "metadata": {},
   "outputs": [],
   "source": [
    "randInt :: [Int] -> Int -> Int -> IO Tensor\n",
    "randInt dims min max = do\n",
    "    let size = map fromIntegral dims\n",
    "    randomTensor <- randIO' size\n",
    "    let scaledTensor = F.mul (F.add randomTensor (asTensor (-min))) (asTensor (max - min))\n",
    "    return $ F.toDType Int64 (F.floor scaledTensor)"
   ]
  },
  {
   "cell_type": "code",
   "execution_count": null,
   "id": "a2159e37",
   "metadata": {},
   "outputs": [
    {
     "data": {
      "text/plain": [
       "Tensor Int64 [2,3] [[ 9,  5,  5],\n",
       "                    [ 0,  0,  9]]"
      ]
     },
     "metadata": {},
     "output_type": "display_data"
    },
    {
     "ename": "",
     "evalue": "",
     "output_type": "error",
     "traceback": [
      "\u001b[1;31mThe Kernel crashed while executing code in the current cell or a previous cell. \n",
      "\u001b[1;31mPlease review the code in the cell(s) to identify a possible cause of the failure. \n",
      "\u001b[1;31mClick <a href='https://aka.ms/vscodeJupyterKernelCrash'>here</a> for more info. \n",
      "\u001b[1;31mView Jupyter <a href='command:jupyter.viewOutput'>log</a> for further details."
     ]
    }
   ],
   "source": [
    "randInt [2,3] 0 10"
   ]
  }
 ],
 "metadata": {
  "kernelspec": {
   "display_name": "Haskell",
   "language": "haskell",
   "name": "haskell"
  },
  "language_info": {
   "codemirror_mode": "ihaskell",
   "file_extension": ".hs",
   "mimetype": "text/x-haskell",
   "name": "haskell",
   "pygments_lexer": "Haskell",
   "version": "9.2.5"
  }
 },
 "nbformat": 4,
 "nbformat_minor": 5
}

{
 "cells": [
  {
   "cell_type": "code",
   "execution_count": 1,
   "id": "a4ce46f9",
   "metadata": {},
   "outputs": [],
   "source": [
    "import Torch\n",
    "import qualified Torch.Functional as F"
   ]
  },
  {
   "cell_type": "code",
   "execution_count": 36,
   "id": "0b56590f",
   "metadata": {},
   "outputs": [],
   "source": [
    "vocabSize = 30000\n",
    "nEmbd = 768\n",
    "\n",
    "batchSize = 2\n",
    "seqLen = 128"
   ]
  },
  {
   "cell_type": "code",
   "execution_count": 34,
   "id": "10bd5ef2",
   "metadata": {},
   "outputs": [
    {
     "data": {
      "text/plain": [
       "[2,3]"
      ]
     },
     "metadata": {},
     "output_type": "display_data"
    }
   ],
   "source": [
    "input = asTensor ([[1,2,3],[1,2,3]] :: [[Int]])\n",
    "shape input"
   ]
  },
  {
   "cell_type": "code",
   "execution_count": 35,
   "id": "31bf8366",
   "metadata": {},
   "outputs": [
    {
     "data": {
      "text/plain": [
       "[30000,768]"
      ]
     },
     "metadata": {},
     "output_type": "display_data"
    }
   ],
   "source": [
    "embed_weight <- randIO' [vocabSize, nEmbd]\n",
    "shape embed_weight"
   ]
  },
  {
   "cell_type": "code",
   "execution_count": 38,
   "id": "25786368",
   "metadata": {},
   "outputs": [
    {
     "data": {
      "text/plain": [
       "[2,3,768]"
      ]
     },
     "metadata": {},
     "output_type": "display_data"
    }
   ],
   "source": [
    "output = F.embedding False False embed_weight 0 input\n",
    "shape output"
   ]
  },
  {
   "cell_type": "code",
   "execution_count": 51,
   "id": "e3a9ae35",
   "metadata": {},
   "outputs": [],
   "source": [
    "randInt :: [Int] -> Int -> Int -> IO Tensor\n",
    "randInt dims min max = do\n",
    "    let size = map fromIntegral dims\n",
    "    randomTensor <- randIO' size\n",
    "    let scaledTensor = F.mul (F.add randomTensor (asTensor (-min))) (asTensor (max - min))\n",
    "    return $ F.toDType Int64 (F.floor scaledTensor)"
   ]
  },
  {
   "cell_type": "code",
   "execution_count": null,
   "id": "a2159e37",
   "metadata": {},
   "outputs": [
    {
     "data": {
      "text/plain": [
       "Tensor Int64 [2,3] [[ 9,  5,  5],\n",
       "                    [ 0,  0,  9]]"
      ]
     },
     "metadata": {},
     "output_type": "display_data"
    },
    {
     "ename": "",
     "evalue": "",
     "output_type": "error",
     "traceback": [
      "\u001b[1;31mThe Kernel crashed while executing code in the current cell or a previous cell. \n",
      "\u001b[1;31mPlease review the code in the cell(s) to identify a possible cause of the failure. \n",
      "\u001b[1;31mClick <a href='https://aka.ms/vscodeJupyterKernelCrash'>here</a> for more info. \n",
      "\u001b[1;31mView Jupyter <a href='command:jupyter.viewOutput'>log</a> for further details."
     ]
    }
   ],
   "source": [
    "randInt [2,3] 0 10"
   ]
  }
 ],
 "metadata": {
  "kernelspec": {
   "display_name": "Haskell",
   "language": "haskell",
   "name": "haskell"
  },
  "language_info": {
   "codemirror_mode": "ihaskell",
   "file_extension": ".hs",
   "mimetype": "text/x-haskell",
   "name": "haskell",
   "pygments_lexer": "Haskell",
   "version": "9.2.5"
  }
 },
 "nbformat": 4,
 "nbformat_minor": 5
}

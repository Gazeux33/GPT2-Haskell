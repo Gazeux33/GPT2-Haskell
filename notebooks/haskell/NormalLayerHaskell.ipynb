{
 "cells": [
  {
   "cell_type": "code",
   "execution_count": 1,
   "id": "f279f120",
   "metadata": {},
   "outputs": [],
   "source": [
    "{-# LANGUAGE RecordWildCards #-}\n",
    "import GHC.Generics\n",
    "import Torch\n",
    "import Torch.Functional.Internal as FI\n",
    "\n"
   ]
  },
  {
   "cell_type": "code",
   "execution_count": 2,
   "id": "584d2939",
   "metadata": {},
   "outputs": [],
   "source": [
    "-- layer_normSource\n",
    "-- :: Tensor\t\n",
    "-- input\n",
    "-- -> [Int]\t\n",
    "-- normalized_shape\n",
    "-- -> Tensor\t\n",
    "-- weight\n",
    "-- -> Tensor\t\n",
    "-- bias\n",
    "-- -> Double\t\n",
    "-- eps\n",
    "-- -> Bool\t\n",
    "-- cudnn_enable\n",
    "-- -> Tensor"
   ]
  },
  {
   "cell_type": "code",
   "execution_count": 3,
   "id": "59316e91",
   "metadata": {},
   "outputs": [],
   "source": [
    "data Config = Config\n",
    "    { normalized_shape :: [Int]\n",
    "    , eps :: Double\n",
    "    , cudnn_enable :: Bool\n",
    "    } deriving (Show, Eq)"
   ]
  },
  {
   "cell_type": "code",
   "execution_count": 4,
   "id": "3dbdb337",
   "metadata": {},
   "outputs": [],
   "source": [
    "data NormalLayer = NormalLayer\n",
    "  { normalized_shape :: [Int]\n",
    "  , weight :: Tensor\n",
    "  , bias :: Tensor\n",
    "  , eps :: Double\n",
    "  , cudnn_enable :: Bool\n",
    "  } deriving (Generic, Show)\n"
   ]
  },
  {
   "cell_type": "code",
   "execution_count": 5,
   "id": "e7f03731",
   "metadata": {},
   "outputs": [],
   "source": [
    "normalLayerInit :: Config -> IO NormalLayer\n",
    "normalLayerInit Config{..} = do\n",
    "  \n",
    "    -- Initialize weight and bias tensors\n",
    "  weight <- randIO' normalized_shape\n",
    "  bias <- randIO' normalized_shape \n",
    "     \n",
    "  return NormalLayer\n",
    "    { \n",
    "        normalized_shape = normalized_shape\n",
    "    , weight = weight\n",
    "    , bias = bias\n",
    "    , eps = eps\n",
    "    , cudnn_enable = cudnn_enable\n",
    "    }\n"
   ]
  },
  {
   "cell_type": "code",
   "execution_count": 6,
   "id": "503f2aa6",
   "metadata": {},
   "outputs": [],
   "source": [
    "normalLayerForward\n",
    "  :: NormalLayer\n",
    "  -> Tensor\n",
    "  ->  Tensor\n",
    "normalLayerForward NormalLayer{..} input = FI.layer_norm input normalized_shape weight bias eps cudnn_enable\n",
    "\n"
   ]
  },
  {
   "cell_type": "code",
   "execution_count": 7,
   "id": "1fddb791",
   "metadata": {},
   "outputs": [
    {
     "data": {
      "text/plain": [
       "Tensor Float [2,3] [[ 0.4633   ,  0.5594   ,  1.2901   ],\n",
       "                    [ 0.2333   ,  0.1387   ,  0.4034   ]]"
      ]
     },
     "metadata": {},
     "output_type": "display_data"
    }
   ],
   "source": [
    "normLayer <- normalLayerInit (Config [2, 3] 1e-5 True)\n",
    "input <- randIO' [2, 3]\n",
    "output <- return $ normalLayerForward normLayer input\n",
    "print output"
   ]
  }
 ],
 "metadata": {
  "kernelspec": {
   "display_name": "Haskell",
   "language": "haskell",
   "name": "haskell"
  },
  "language_info": {
   "codemirror_mode": "ihaskell",
   "file_extension": ".hs",
   "mimetype": "text/x-haskell",
   "name": "haskell",
   "pygments_lexer": "Haskell",
   "version": "9.2.5"
  }
 },
 "nbformat": 4,
 "nbformat_minor": 5
}

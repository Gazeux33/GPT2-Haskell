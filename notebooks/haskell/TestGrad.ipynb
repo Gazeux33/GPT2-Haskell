{
 "cells": [
  {
   "cell_type": "markdown",
   "id": "640a40fd",
   "metadata": {},
   "source": [
    "# Init "
   ]
  },
  {
   "cell_type": "code",
   "execution_count": 51,
   "id": "b3c0fbb2",
   "metadata": {},
   "outputs": [],
   "source": [
    "{-# LANGUAGE DeriveAnyClass #-}\n",
    "{-# LANGUAGE DeriveGeneric #-}\n",
    "{-# LANGUAGE RecordWildCards #-}\n",
    "{-# LANGUAGE MultiParamTypeClasses #-}"
   ]
  },
  {
   "cell_type": "code",
   "execution_count": 52,
   "id": "fc8d3985",
   "metadata": {},
   "outputs": [],
   "source": [
    "import Torch\n",
    "import GHC.Generics (Generic)\n",
    "import qualified Torch.Functional as F"
   ]
  },
  {
   "cell_type": "code",
   "execution_count": 53,
   "id": "13630f8f",
   "metadata": {},
   "outputs": [],
   "source": [
    "data MLPSpec = MLPSpec\n",
    "  { inputFeatures :: Int,\n",
    "    hiddenFeatures0 :: Int,\n",
    "    outputFeatures :: Int\n",
    "  }\n",
    "  deriving (Show, Eq)\n",
    "\n",
    "\n",
    "data MLP = MLP\n",
    "  { l0 :: Linear,\n",
    "    l1:: Linear\n",
    "  }\n",
    "  deriving (Generic, Show, Parameterized)\n",
    "\n",
    "\n",
    "instance Randomizable MLPSpec MLP where\n",
    "  sample MLPSpec {..} =\n",
    "    MLP\n",
    "      <$> sample (LinearSpec inputFeatures hiddenFeatures0)\n",
    "      <*> sample (LinearSpec hiddenFeatures0 outputFeatures)\n",
    "\n",
    "mlp :: MLP -> Tensor -> Tensor\n",
    "mlp MLP {..} =\n",
    "    sigmoid .  linear l1 . relu . linear l0"
   ]
  },
  {
   "cell_type": "code",
   "execution_count": 54,
   "id": "0ed06079",
   "metadata": {},
   "outputs": [],
   "source": [
    "model <- sample (MLPSpec 1 2 1) \n",
    "let optimizer = mkAdam 0 0.9 0.999 (flattenParameters model)"
   ]
  },
  {
   "cell_type": "code",
   "execution_count": 55,
   "id": "485a8a94",
   "metadata": {},
   "outputs": [],
   "source": [
    "randomInput <- randIO' [1, 1]\n",
    "randomTagret <- randIO' [1, 1]"
   ]
  },
  {
   "cell_type": "code",
   "execution_count": 56,
   "id": "e195ba6f",
   "metadata": {},
   "outputs": [
    {
     "data": {
      "text/plain": [
       "[1,1]"
      ]
     },
     "metadata": {},
     "output_type": "display_data"
    }
   ],
   "source": [
    "output = mlp model randomInput\n",
    "shape output"
   ]
  },
  {
   "cell_type": "code",
   "execution_count": 57,
   "id": "b6162f0f",
   "metadata": {},
   "outputs": [
    {
     "data": {
      "text/plain": [
       "Tensor Float []  0.2792"
      ]
     },
     "metadata": {},
     "output_type": "display_data"
    }
   ],
   "source": [
    "loss = mseLoss output randomTagret\n",
    "loss\n"
   ]
  },
  {
   "cell_type": "markdown",
   "id": "115dd4a8",
   "metadata": {},
   "source": [
    "# Gradient "
   ]
  },
  {
   "cell_type": "code",
   "execution_count": 58,
   "id": "969334fa",
   "metadata": {},
   "outputs": [
    {
     "data": {
      "text/plain": [
       "Adam {beta1 = 0.9, beta2 = 0.999, m1 = [Tensor Float [2,1] [[ 0.0000],\n",
       "                    [ 0.0000]],Tensor Float [2] [ 0.0000,  0.0000],Tensor Float [1,2] [[ 0.0000,  0.0000]],Tensor Float [1] [ 2.6000e-2]], m2 = [Tensor Float [2,1] [[ 0.0000],\n",
       "                    [ 0.0000]],Tensor Float [2] [ 0.0000,  0.0000],Tensor Float [1,2] [[ 0.0000,  0.0000]],Tensor Float [1] [ 6.7599e-5]], iter = 1}"
      ]
     },
     "metadata": {},
     "output_type": "display_data"
    }
   ],
   "source": [
    "(newModel, optState) <- runStep model optimizer loss 0.001 \n",
    "optState"
   ]
  },
  {
   "cell_type": "code",
   "execution_count": 59,
   "id": "59cb71d3",
   "metadata": {},
   "outputs": [
    {
     "data": {
      "text/plain": [
       "Gradients [Tensor Float [2,1] [[ 0.0000],\n",
       "                    [ 0.0000]],Tensor Float [2] [ 0.0000,  0.0000],Tensor Float [1,2] [[ 0.0000,  0.0000]],Tensor Float [1] [ 0.2600   ]]"
      ]
     },
     "metadata": {},
     "output_type": "display_data"
    }
   ],
   "source": [
    "grad' loss $ flattenParameters model"
   ]
  },
  {
   "cell_type": "code",
   "execution_count": 84,
   "id": "bee2b863",
   "metadata": {},
   "outputs": [],
   "source": [
    "randomInput <- randIO' [1, 1]\n",
    "randomTagret <- randIO' [1, 1]\n",
    "let lossFunction = mseLoss\n",
    "let output = mlp model randomInput\n",
    "\n",
    "\n",
    "let loss1 = lossFunction output randomTagret\n",
    "\n",
    "let grad1 = grad loss1 $ flattenParameters model\n",
    "\n",
    "let loss2 = lossFunction output randomTagret\n",
    "\n",
    "let grad2 = grad loss2 $ flattenParameters model\n",
    "\n",
    "\n",
    "\n",
    "\n"
   ]
  },
  {
   "cell_type": "code",
   "execution_count": 79,
   "id": "862f548e",
   "metadata": {},
   "outputs": [
    {
     "data": {
      "text/html": [
       "<style>/* Styles used for the Hoogle display in the pager */\n",
       ".hoogle-doc {\n",
       "display: block;\n",
       "padding-bottom: 1.3em;\n",
       "padding-left: 0.4em;\n",
       "}\n",
       ".hoogle-code {\n",
       "display: block;\n",
       "font-family: monospace;\n",
       "white-space: pre;\n",
       "}\n",
       ".hoogle-text {\n",
       "display: block;\n",
       "}\n",
       ".hoogle-name {\n",
       "color: green;\n",
       "font-weight: bold;\n",
       "}\n",
       ".hoogle-head {\n",
       "font-weight: bold;\n",
       "}\n",
       ".hoogle-sub {\n",
       "display: block;\n",
       "margin-left: 0.4em;\n",
       "}\n",
       ".hoogle-package {\n",
       "font-weight: bold;\n",
       "font-style: italic;\n",
       "}\n",
       ".hoogle-module {\n",
       "font-weight: bold;\n",
       "}\n",
       ".hoogle-class {\n",
       "font-weight: bold;\n",
       "}\n",
       ".get-type {\n",
       "color: green;\n",
       "font-weight: bold;\n",
       "font-family: monospace;\n",
       "display: block;\n",
       "white-space: pre-wrap;\n",
       "}\n",
       ".show-type {\n",
       "color: green;\n",
       "font-weight: bold;\n",
       "font-family: monospace;\n",
       "margin-left: 1em;\n",
       "}\n",
       ".mono {\n",
       "font-family: monospace;\n",
       "display: block;\n",
       "}\n",
       ".err-msg {\n",
       "color: red;\n",
       "font-style: italic;\n",
       "font-family: monospace;\n",
       "white-space: pre;\n",
       "display: block;\n",
       "}\n",
       "#unshowable {\n",
       "color: red;\n",
       "font-weight: bold;\n",
       "}\n",
       ".err-msg.in.collapse {\n",
       "padding-top: 0.7em;\n",
       "}\n",
       ".highlight-code {\n",
       "white-space: pre;\n",
       "font-family: monospace;\n",
       "}\n",
       ".suggestion-warning { \n",
       "font-weight: bold;\n",
       "color: rgb(200, 130, 0);\n",
       "}\n",
       ".suggestion-error { \n",
       "font-weight: bold;\n",
       "color: red;\n",
       "}\n",
       ".suggestion-name {\n",
       "font-weight: bold;\n",
       "}\n",
       "</style><div class=\"suggestion-name\" style=\"clear:both;\">Use head</div><div class=\"suggestion-row\" style=\"float: left;\"><div class=\"suggestion-warning\">Found:</div><div class=\"highlight-code\" id=\"haskell\">grad1 !! 0</div></div><div class=\"suggestion-row\" style=\"float: left;\"><div class=\"suggestion-warning\">Why Not:</div><div class=\"highlight-code\" id=\"haskell\">head grad1</div></div>"
      ],
      "text/plain": [
       "Line 1: Use head\n",
       "Found:\n",
       "grad1 !! 0\n",
       "Why not:\n",
       "head grad1"
      ]
     },
     "metadata": {},
     "output_type": "display_data"
    },
    {
     "ename": "",
     "evalue": "",
     "output_type": "error",
     "traceback": [
      "<interactive>:1:8: error:\n    • Couldn't match expected type ‘[Tensor]’ with actual type ‘Gradients’\n    • In the first argument of ‘(!!)’, namely ‘grad1’\n      In the first argument of ‘shape’, namely ‘(grad1 !! 0)’\n      In the expression: shape (grad1 !! 0)"
     ]
    }
   ],
   "source": [
    "shape (grad1 !! 0)\n",
    "shape (grad1 !! 1)\n",
    "shape (grad1 !! 2)\n",
    "shape (grad1 !! 3)"
   ]
  },
  {
   "cell_type": "code",
   "execution_count": 80,
   "id": "40af5471",
   "metadata": {},
   "outputs": [
    {
     "data": {
      "text/html": [
       "<style>/* Styles used for the Hoogle display in the pager */\n",
       ".hoogle-doc {\n",
       "display: block;\n",
       "padding-bottom: 1.3em;\n",
       "padding-left: 0.4em;\n",
       "}\n",
       ".hoogle-code {\n",
       "display: block;\n",
       "font-family: monospace;\n",
       "white-space: pre;\n",
       "}\n",
       ".hoogle-text {\n",
       "display: block;\n",
       "}\n",
       ".hoogle-name {\n",
       "color: green;\n",
       "font-weight: bold;\n",
       "}\n",
       ".hoogle-head {\n",
       "font-weight: bold;\n",
       "}\n",
       ".hoogle-sub {\n",
       "display: block;\n",
       "margin-left: 0.4em;\n",
       "}\n",
       ".hoogle-package {\n",
       "font-weight: bold;\n",
       "font-style: italic;\n",
       "}\n",
       ".hoogle-module {\n",
       "font-weight: bold;\n",
       "}\n",
       ".hoogle-class {\n",
       "font-weight: bold;\n",
       "}\n",
       ".get-type {\n",
       "color: green;\n",
       "font-weight: bold;\n",
       "font-family: monospace;\n",
       "display: block;\n",
       "white-space: pre-wrap;\n",
       "}\n",
       ".show-type {\n",
       "color: green;\n",
       "font-weight: bold;\n",
       "font-family: monospace;\n",
       "margin-left: 1em;\n",
       "}\n",
       ".mono {\n",
       "font-family: monospace;\n",
       "display: block;\n",
       "}\n",
       ".err-msg {\n",
       "color: red;\n",
       "font-style: italic;\n",
       "font-family: monospace;\n",
       "white-space: pre;\n",
       "display: block;\n",
       "}\n",
       "#unshowable {\n",
       "color: red;\n",
       "font-weight: bold;\n",
       "}\n",
       ".err-msg.in.collapse {\n",
       "padding-top: 0.7em;\n",
       "}\n",
       ".highlight-code {\n",
       "white-space: pre;\n",
       "font-family: monospace;\n",
       "}\n",
       ".suggestion-warning { \n",
       "font-weight: bold;\n",
       "color: rgb(200, 130, 0);\n",
       "}\n",
       ".suggestion-error { \n",
       "font-weight: bold;\n",
       "color: red;\n",
       "}\n",
       ".suggestion-name {\n",
       "font-weight: bold;\n",
       "}\n",
       "</style><div class=\"suggestion-name\" style=\"clear:both;\">Use zipWith</div><div class=\"suggestion-row\" style=\"float: left;\"><div class=\"suggestion-warning\">Found:</div><div class=\"highlight-code\" id=\"haskell\">map (\\ (g1, g2) -> g1 + g2) (zip grad1 grad2)</div></div><div class=\"suggestion-row\" style=\"float: left;\"><div class=\"suggestion-warning\">Why Not:</div><div class=\"highlight-code\" id=\"haskell\">zipWith (curry (\\ (g1, g2) -> g1 + g2)) grad1 grad2</div></div><div class=\"suggestion-name\" style=\"clear:both;\">Use uncurry</div><div class=\"suggestion-row\" style=\"float: left;\"><div class=\"suggestion-warning\">Found:</div><div class=\"highlight-code\" id=\"haskell\">\\ (g1, g2) -> g1 + g2</div></div><div class=\"suggestion-row\" style=\"float: left;\"><div class=\"suggestion-warning\">Why Not:</div><div class=\"highlight-code\" id=\"haskell\">uncurry (+)</div></div>"
      ],
      "text/plain": [
       "Line 1: Use zipWith\n",
       "Found:\n",
       "map (\\ (g1, g2) -> g1 + g2) (zip grad1 grad2)\n",
       "Why not:\n",
       "zipWith (curry (\\ (g1, g2) -> g1 + g2)) grad1 grad2Line 1: Use uncurry\n",
       "Found:\n",
       "\\ (g1, g2) -> g1 + g2\n",
       "Why not:\n",
       "uncurry (+)"
      ]
     },
     "metadata": {},
     "output_type": "display_data"
    },
    {
     "ename": "",
     "evalue": "",
     "output_type": "error",
     "traceback": [
      "<interactive>:1:31: error:\n    • Couldn't match expected type ‘[Tensor]’ with actual type ‘Gradients’\n    • In the first argument of ‘zip’, namely ‘grad1’\n      In the second argument of ‘map’, namely ‘(zip grad1 grad2)’\n      In the expression: map (\\ (g1, g2) -> g1 + g2) (zip grad1 grad2)"
     ]
    }
   ],
   "source": [
    "map (\\(g1,g2) -> g1 + g2)(zip grad1 grad2) "
   ]
  },
  {
   "cell_type": "code",
   "execution_count": 75,
   "id": "9b7c4ebc",
   "metadata": {},
   "outputs": [
    {
     "data": {
      "text/html": [
       "<style>/* Styles used for the Hoogle display in the pager */\n",
       ".hoogle-doc {\n",
       "display: block;\n",
       "padding-bottom: 1.3em;\n",
       "padding-left: 0.4em;\n",
       "}\n",
       ".hoogle-code {\n",
       "display: block;\n",
       "font-family: monospace;\n",
       "white-space: pre;\n",
       "}\n",
       ".hoogle-text {\n",
       "display: block;\n",
       "}\n",
       ".hoogle-name {\n",
       "color: green;\n",
       "font-weight: bold;\n",
       "}\n",
       ".hoogle-head {\n",
       "font-weight: bold;\n",
       "}\n",
       ".hoogle-sub {\n",
       "display: block;\n",
       "margin-left: 0.4em;\n",
       "}\n",
       ".hoogle-package {\n",
       "font-weight: bold;\n",
       "font-style: italic;\n",
       "}\n",
       ".hoogle-module {\n",
       "font-weight: bold;\n",
       "}\n",
       ".hoogle-class {\n",
       "font-weight: bold;\n",
       "}\n",
       ".get-type {\n",
       "color: green;\n",
       "font-weight: bold;\n",
       "font-family: monospace;\n",
       "display: block;\n",
       "white-space: pre-wrap;\n",
       "}\n",
       ".show-type {\n",
       "color: green;\n",
       "font-weight: bold;\n",
       "font-family: monospace;\n",
       "margin-left: 1em;\n",
       "}\n",
       ".mono {\n",
       "font-family: monospace;\n",
       "display: block;\n",
       "}\n",
       ".err-msg {\n",
       "color: red;\n",
       "font-style: italic;\n",
       "font-family: monospace;\n",
       "white-space: pre;\n",
       "display: block;\n",
       "}\n",
       "#unshowable {\n",
       "color: red;\n",
       "font-weight: bold;\n",
       "}\n",
       ".err-msg.in.collapse {\n",
       "padding-top: 0.7em;\n",
       "}\n",
       ".highlight-code {\n",
       "white-space: pre;\n",
       "font-family: monospace;\n",
       "}\n",
       ".suggestion-warning { \n",
       "font-weight: bold;\n",
       "color: rgb(200, 130, 0);\n",
       "}\n",
       ".suggestion-error { \n",
       "font-weight: bold;\n",
       "color: red;\n",
       "}\n",
       ".suggestion-name {\n",
       "font-weight: bold;\n",
       "}\n",
       "</style><div class=\"suggestion-name\" style=\"clear:both;\">Avoid lambda</div><div class=\"suggestion-row\" style=\"float: left;\"><div class=\"suggestion-warning\">Found:</div><div class=\"highlight-code\" id=\"haskell\">\\ g1 g2 -> g1 + g2</div></div><div class=\"suggestion-row\" style=\"float: left;\"><div class=\"suggestion-warning\">Why Not:</div><div class=\"highlight-code\" id=\"haskell\">(+)</div></div>"
      ],
      "text/plain": [
       "Line 1: Avoid lambda\n",
       "Found:\n",
       "\\ g1 g2 -> g1 + g2\n",
       "Why not:\n",
       "(+)"
      ]
     },
     "metadata": {},
     "output_type": "display_data"
    },
    {
     "ename": "",
     "evalue": "",
     "output_type": "error",
     "traceback": [
      "<interactive>:1:1: error:\n    • Couldn't match expected type: [Tensor] -> t\n                  with actual type: [Tensor -> Tensor]\n    • The function ‘map’ is applied to three value arguments, but its type ‘(Tensor -> Tensor -> Tensor) -> [Tensor] -> [Tensor -> Tensor]’ has only two\n      In the expression: map (\\ g1 g2 -> g1 + g2) grad1 grad2\n      In an equation for ‘it’: it = map (\\ g1 g2 -> g1 + g2) grad1 grad2\n    • Relevant bindings include it :: t (bound at <interactive>:1:1)"
     ]
    }
   ],
   "source": [
    "map (\\g1 g2  -> g1 + g2) grad1 grad2"
   ]
  },
  {
   "cell_type": "code",
   "execution_count": 76,
   "id": "862232d0",
   "metadata": {},
   "outputs": [
    {
     "data": {
      "text/plain": [
       "[Tensor Float [2,1] [[ 0.0000],\n",
       "                    [ 0.0000]],Tensor Float [2] [ 0.0000,  0.0000],Tensor Float [1,2] [[ 0.0000,  0.0000]],Tensor Float [1] [ 0.1184   ]]"
      ]
     },
     "metadata": {},
     "output_type": "display_data"
    }
   ],
   "source": [
    "zipWith (+) grad1 grad2"
   ]
  },
  {
   "cell_type": "code",
   "execution_count": 88,
   "id": "7cd202cf",
   "metadata": {},
   "outputs": [
    {
     "data": {
      "text/plain": [
       "Gradients [Tensor Float [2,1] [[ 0.0000],\n",
       "                    [ 0.0000]],Tensor Float [2] [ 0.0000,  0.0000],Tensor Float [1,2] [[ 0.0000,  0.0000]],Tensor Float [1] [-1.6092e-2]]"
      ]
     },
     "metadata": {},
     "output_type": "display_data"
    },
    {
     "data": {
      "text/plain": [
       "Gradients [Tensor Float [2,1] [[ 0.0000],\n",
       "                    [ 0.0000]],Tensor Float [2] [ 0.0000,  0.0000],Tensor Float [1,2] [[ 0.0000,  0.0000]],Tensor Float [1] [-1.6092e-2]]"
      ]
     },
     "metadata": {},
     "output_type": "display_data"
    }
   ],
   "source": [
    "-- newtype Gradients = Gradients [Tensor] deriving (Show)\n",
    "\n",
    "let grad1 = grad' loss1 $ flattenParameters model\n",
    "let grad2 = grad' loss1 $ flattenParameters model\n",
    "grad1\n",
    "grad2\n",
    "\n"
   ]
  },
  {
   "cell_type": "code",
   "execution_count": 92,
   "id": "849e3a6e",
   "metadata": {},
   "outputs": [],
   "source": [
    "accumulateGradients :: Gradients -> Gradients -> Gradients\n",
    "accumulateGradients (Gradients currentGradTensor) (Gradients newGradTensor) = Gradients $ zipWith (+) currentGradTensor newGradTensor"
   ]
  },
  {
   "cell_type": "code",
   "execution_count": 89,
   "id": "bcd08428",
   "metadata": {},
   "outputs": [
    {
     "data": {
      "text/html": [
       "<style>/* Styles used for the Hoogle display in the pager */\n",
       ".hoogle-doc {\n",
       "display: block;\n",
       "padding-bottom: 1.3em;\n",
       "padding-left: 0.4em;\n",
       "}\n",
       ".hoogle-code {\n",
       "display: block;\n",
       "font-family: monospace;\n",
       "white-space: pre;\n",
       "}\n",
       ".hoogle-text {\n",
       "display: block;\n",
       "}\n",
       ".hoogle-name {\n",
       "color: green;\n",
       "font-weight: bold;\n",
       "}\n",
       ".hoogle-head {\n",
       "font-weight: bold;\n",
       "}\n",
       ".hoogle-sub {\n",
       "display: block;\n",
       "margin-left: 0.4em;\n",
       "}\n",
       ".hoogle-package {\n",
       "font-weight: bold;\n",
       "font-style: italic;\n",
       "}\n",
       ".hoogle-module {\n",
       "font-weight: bold;\n",
       "}\n",
       ".hoogle-class {\n",
       "font-weight: bold;\n",
       "}\n",
       ".get-type {\n",
       "color: green;\n",
       "font-weight: bold;\n",
       "font-family: monospace;\n",
       "display: block;\n",
       "white-space: pre-wrap;\n",
       "}\n",
       ".show-type {\n",
       "color: green;\n",
       "font-weight: bold;\n",
       "font-family: monospace;\n",
       "margin-left: 1em;\n",
       "}\n",
       ".mono {\n",
       "font-family: monospace;\n",
       "display: block;\n",
       "}\n",
       ".err-msg {\n",
       "color: red;\n",
       "font-style: italic;\n",
       "font-family: monospace;\n",
       "white-space: pre;\n",
       "display: block;\n",
       "}\n",
       "#unshowable {\n",
       "color: red;\n",
       "font-weight: bold;\n",
       "}\n",
       ".err-msg.in.collapse {\n",
       "padding-top: 0.7em;\n",
       "}\n",
       ".highlight-code {\n",
       "white-space: pre;\n",
       "font-family: monospace;\n",
       "}\n",
       ".suggestion-warning { \n",
       "font-weight: bold;\n",
       "color: rgb(200, 130, 0);\n",
       "}\n",
       ".suggestion-error { \n",
       "font-weight: bold;\n",
       "color: red;\n",
       "}\n",
       ".suggestion-name {\n",
       "font-weight: bold;\n",
       "}\n",
       "</style><div class=\"suggestion-name\" style=\"clear:both;\">Redundant bracket</div><div class=\"suggestion-row\" style=\"float: left;\"><div class=\"suggestion-warning\">Found:</div><div class=\"highlight-code\" id=\"haskell\">(getGradientTensors grad1) !! 0</div></div><div class=\"suggestion-row\" style=\"float: left;\"><div class=\"suggestion-warning\">Why Not:</div><div class=\"highlight-code\" id=\"haskell\">getGradientTensors grad1 !! 0</div></div><div class=\"suggestion-name\" style=\"clear:both;\">Use head</div><div class=\"suggestion-row\" style=\"float: left;\"><div class=\"suggestion-warning\">Found:</div><div class=\"highlight-code\" id=\"haskell\">(getGradientTensors grad1) !! 0</div></div><div class=\"suggestion-row\" style=\"float: left;\"><div class=\"suggestion-warning\">Why Not:</div><div class=\"highlight-code\" id=\"haskell\">head (getGradientTensors grad1)</div></div>"
      ],
      "text/plain": [
       "Line 5: Redundant bracket\n",
       "Found:\n",
       "(getGradientTensors grad1) !! 0\n",
       "Why not:\n",
       "getGradientTensors grad1 !! 0Line 5: Use head\n",
       "Found:\n",
       "(getGradientTensors grad1) !! 0\n",
       "Why not:\n",
       "head (getGradientTensors grad1)"
      ]
     },
     "metadata": {},
     "output_type": "display_data"
    },
    {
     "data": {
      "text/plain": [
       "Tensor Float [2,1] [[ 0.0000],\n",
       "                    [ 0.0000]]"
      ]
     },
     "metadata": {},
     "output_type": "display_data"
    }
   ],
   "source": [
    "getGradientTensors :: Gradients -> [Tensor]\n",
    "getGradientTensors (Gradients ts) = ts\n",
    "\n",
    "-- Now use it\n",
    "(getGradientTensors grad1) !! 0"
   ]
  },
  {
   "cell_type": "code",
   "execution_count": 90,
   "id": "83d30a42",
   "metadata": {},
   "outputs": [
    {
     "data": {
      "text/plain": [
       "Gradients []"
      ]
     },
     "metadata": {},
     "output_type": "display_data"
    }
   ],
   "source": [
    "Gradients []"
   ]
  }
 ],
 "metadata": {
  "kernelspec": {
   "display_name": "Haskell",
   "language": "haskell",
   "name": "haskell"
  },
  "language_info": {
   "codemirror_mode": "ihaskell",
   "file_extension": ".hs",
   "mimetype": "text/x-haskell",
   "name": "haskell",
   "pygments_lexer": "Haskell",
   "version": "9.2.5"
  }
 },
 "nbformat": 4,
 "nbformat_minor": 5
}

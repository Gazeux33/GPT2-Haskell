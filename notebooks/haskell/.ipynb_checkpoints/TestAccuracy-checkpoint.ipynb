{
 "cells": [
  {
   "cell_type": "code",
   "execution_count": 52,
   "id": "8d74875d",
   "metadata": {},
   "outputs": [],
   "source": [
    "import Torch\n",
    "import qualified Torch.Functional.Internal as FI\n",
    "import qualified Torch.Functional as F"
   ]
  },
  {
   "cell_type": "code",
   "execution_count": 53,
   "id": "4252b453",
   "metadata": {},
   "outputs": [],
   "source": [
    "randInt :: [Int] -> Int -> Int -> IO Tensor\n",
    "randInt dims min max = do\n",
    "    let size = map fromIntegral dims\n",
    "    randomTensor <- randIO' size\n",
    "    let scaledTensor = F.mul (F.add randomTensor (asTensor (-min))) (asTensor (max - min))\n",
    "    return $ F.toDType Int64 (F.floor scaledTensor)"
   ]
  },
  {
   "cell_type": "code",
   "execution_count": 54,
   "id": "68466470",
   "metadata": {},
   "outputs": [],
   "source": [
    "pred <- randIO' [18,8,1]\n",
    "target <- randInt [18,8] 0 2"
   ]
  },
  {
   "cell_type": "code",
   "execution_count": 55,
   "id": "3da96e97",
   "metadata": {},
   "outputs": [
    {
     "data": {
      "text/plain": [
       "Tensor Int64 [18,8] [[ 0,  0,  0,  0,  0,  0,  0,  0],\n",
       "                     [ 0,  0,  0,  0,  0,  0,  0,  0],\n",
       "                     [ 0,  0,  0,  0,  0,  0,  0,  0],\n",
       "                     [ 0,  0,  0,  0,  0,  0,  0,  0],\n",
       "                     [ 0,  0,  0,  0,  0,  0,  0,  0],\n",
       "                     [ 0,  0,  0,  0,  0,  0,  0,  0],\n",
       "                     [ 0,  0,  0,  0,  0,  0,  0,  0],\n",
       "                     [ 0,  0,  0,  0,  0,  0,  0,  0],\n",
       "                     [ 0,  0,  0,  0,  0,  0,  0,  0],\n",
       "                     [ 0,  0,  0,  0,  0,  0,  0,  0],\n",
       "                     [ 0,  0,  0,  0,  0,  0,  0,  0],\n",
       "                     [ 0,  0,  0,  0,  0,  0,  0,  0],\n",
       "                     [ 0,  0,  0,  0,  0,  0,  0,  0],\n",
       "                     [ 0,  0,  0,  0,  0,  0,  0,  0],\n",
       "                     [ 0,  0,  0,  0,  0,  0,  0,  0],\n",
       "                     [ 0,  0,  0,  0,  0,  0,  0,  0],\n",
       "                     [ 0,  0,  0,  0,  0,  0,  0,  0],\n",
       "                     [ 0,  0,  0,  0,  0,  0,  0,  0]]"
      ]
     },
     "metadata": {},
     "output_type": "display_data"
    }
   ],
   "source": [
    "argggg = FI.argmax pred (-1) False\n",
    "argggg"
   ]
  },
  {
   "cell_type": "code",
   "execution_count": 56,
   "id": "144aa422",
   "metadata": {},
   "outputs": [
    {
     "data": {
      "text/plain": [
       "Tensor Bool [18,8] [[ 0,  0,  0,  0,  1,  0,  1,  0],\n",
       "                    [ 0,  1,  0,  1,  0,  1,  1,  1],\n",
       "                    [ 1,  1,  1,  1,  1,  1,  1,  1],\n",
       "                    [ 0,  0,  1,  0,  1,  1,  1,  0],\n",
       "                    [ 0,  1,  0,  1,  1,  0,  1,  1],\n",
       "                    [ 1,  1,  1,  1,  0,  0,  0,  0],\n",
       "                    [ 1,  1,  1,  1,  0,  1,  0,  0],\n",
       "                    [ 1,  1,  1,  1,  0,  1,  0,  0],\n",
       "                    [ 1,  1,  0,  0,  0,  0,  1,  1],\n",
       "                    [ 0,  1,  0,  1,  0,  0,  0,  1],\n",
       "                    [ 0,  0,  0,  0,  0,  0,  0,  1],\n",
       "                    [ 1,  0,  1,  0,  1,  0,  0,  1],\n",
       "                    [ 1,  1,  0,  1,  1,  0,  0,  0],\n",
       "                    [ 1,  0,  0,  1,  0,  1,  0,  0],\n",
       "                    [ 1,  1,  1,  0,  1,  0,  1,  1],\n",
       "                    [ 0,  0,  0,  1,  1,  0,  1,  0],\n",
       "                    [ 0,  0,  1,  0,  0,  1,  1,  1],\n",
       "                    [ 0,  1,  1,  0,  1,  0,  1,  1]]"
      ]
     },
     "metadata": {},
     "output_type": "display_data"
    }
   ],
   "source": [
    "let correctPredictions = eq argggg target\n",
    "correctPredictions"
   ]
  },
  {
   "cell_type": "code",
   "execution_count": 57,
   "id": "9c640c47",
   "metadata": {},
   "outputs": [
    {
     "data": {
      "text/plain": [
       "Tensor Int64 []  75"
      ]
     },
     "metadata": {},
     "output_type": "display_data"
    }
   ],
   "source": [
    "F.sumAll correctPredictions"
   ]
  },
  {
   "cell_type": "code",
   "execution_count": 58,
   "id": "117d0a12",
   "metadata": {},
   "outputs": [
    {
     "data": {
      "text/plain": [
       "144"
      ]
     },
     "metadata": {},
     "output_type": "display_data"
    }
   ],
   "source": [
    "numel target"
   ]
  },
  {
   "cell_type": "code",
   "execution_count": 59,
   "id": "69d3ddd3",
   "metadata": {},
   "outputs": [
    {
     "data": {
      "text/plain": [
       "0.5208333"
      ]
     },
     "metadata": {},
     "output_type": "display_data"
    }
   ],
   "source": [
    "accuracy :: Tensor -> Tensor -> Float\n",
    "accuracy predictions targets = \n",
    "  let correctPredictions = eq (FI.argmax predictions (-1) False) targets\n",
    "      numCorrect = asValue $ toType Float $ F.sumAll correctPredictions\n",
    "      total = fromIntegral $ numel targets\n",
    "  in numCorrect / total\n",
    "\n",
    "accuracy pred target"
   ]
  }
 ],
 "metadata": {
  "kernelspec": {
   "display_name": "Haskell",
   "language": "haskell",
   "name": "haskell"
  },
  "language_info": {
   "codemirror_mode": "ihaskell",
   "file_extension": ".hs",
   "mimetype": "text/x-haskell",
   "name": "haskell",
   "pygments_lexer": "Haskell",
   "version": "9.2.5"
  }
 },
 "nbformat": 4,
 "nbformat_minor": 5
}

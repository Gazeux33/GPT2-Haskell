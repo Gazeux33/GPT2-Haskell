{
 "cells": [
  {
   "cell_type": "code",
   "execution_count": 43,
   "metadata": {},
   "outputs": [],
   "source": [
    "{-# LANGUAGE RecordWildCards #-}\n",
    "{-# LANGUAGE GADTs #-}\n",
    "{-# LANGUAGE MultiParamTypeClasses #-}\n",
    "{-# LANGUAGE DeriveGeneric #-}\n",
    "{-# LANGUAGE DeriveAnyClass #-}\n",
    "{-# LANGUAGE StandaloneDeriving #-}"
   ]
  },
  {
   "cell_type": "code",
   "execution_count": 44,
   "metadata": {},
   "outputs": [
    {
     "data": {
      "text/html": [
       "<style>/* Styles used for the Hoogle display in the pager */\n",
       ".hoogle-doc {\n",
       "display: block;\n",
       "padding-bottom: 1.3em;\n",
       "padding-left: 0.4em;\n",
       "}\n",
       ".hoogle-code {\n",
       "display: block;\n",
       "font-family: monospace;\n",
       "white-space: pre;\n",
       "}\n",
       ".hoogle-text {\n",
       "display: block;\n",
       "}\n",
       ".hoogle-name {\n",
       "color: green;\n",
       "font-weight: bold;\n",
       "}\n",
       ".hoogle-head {\n",
       "font-weight: bold;\n",
       "}\n",
       ".hoogle-sub {\n",
       "display: block;\n",
       "margin-left: 0.4em;\n",
       "}\n",
       ".hoogle-package {\n",
       "font-weight: bold;\n",
       "font-style: italic;\n",
       "}\n",
       ".hoogle-module {\n",
       "font-weight: bold;\n",
       "}\n",
       ".hoogle-class {\n",
       "font-weight: bold;\n",
       "}\n",
       ".get-type {\n",
       "color: green;\n",
       "font-weight: bold;\n",
       "font-family: monospace;\n",
       "display: block;\n",
       "white-space: pre-wrap;\n",
       "}\n",
       ".show-type {\n",
       "color: green;\n",
       "font-weight: bold;\n",
       "font-family: monospace;\n",
       "margin-left: 1em;\n",
       "}\n",
       ".mono {\n",
       "font-family: monospace;\n",
       "display: block;\n",
       "}\n",
       ".err-msg {\n",
       "color: red;\n",
       "font-style: italic;\n",
       "font-family: monospace;\n",
       "white-space: pre;\n",
       "display: block;\n",
       "}\n",
       "#unshowable {\n",
       "color: red;\n",
       "font-weight: bold;\n",
       "}\n",
       ".err-msg.in.collapse {\n",
       "padding-top: 0.7em;\n",
       "}\n",
       ".highlight-code {\n",
       "white-space: pre;\n",
       "font-family: monospace;\n",
       "}\n",
       ".suggestion-warning { \n",
       "font-weight: bold;\n",
       "color: rgb(200, 130, 0);\n",
       "}\n",
       ".suggestion-error { \n",
       "font-weight: bold;\n",
       "color: red;\n",
       "}\n",
       ".suggestion-name {\n",
       "font-weight: bold;\n",
       "}\n",
       "</style><div class=\"suggestion-name\" style=\"clear:both;\">Use fewer imports</div><div class=\"suggestion-row\" style=\"float: left;\"><div class=\"suggestion-warning\">Found:</div><div class=\"highlight-code\" id=\"haskell\">import Data.Word\n",
       "import Data.Word ( Word8 )\n",
       "</div></div><div class=\"suggestion-row\" style=\"float: left;\"><div class=\"suggestion-warning\">Why Not:</div><div class=\"highlight-code\" id=\"haskell\">import Data.Word\n",
       "</div></div>"
      ],
      "text/plain": [
       "Line 6: Use fewer imports\n",
       "Found:\n",
       "import Data.Word\n",
       "import Data.Word ( Word8 )\n",
       "\n",
       "Why not:\n",
       "import Data.Word"
      ]
     },
     "metadata": {},
     "output_type": "display_data"
    }
   ],
   "source": [
    "import qualified Data.ByteString as BS\n",
    "import qualified Data.ByteString.Lazy as B\n",
    "import qualified Data.ByteString.Lazy.Char8 as BL\n",
    "import qualified Data.ByteString.UTF8 as BSU\n",
    "import Data.Aeson (decode)\n",
    "import Data.Word\n",
    "import qualified Data.Map as Map\n",
    "import Data.Maybe (fromMaybe)\n",
    "import System.IO\n",
    "import Data.List.Split (splitOn)\n",
    "import Distribution.Simple\n",
    "import qualified Data.Text as T\n",
    "import Data.Word (Word8)\n",
    "\n",
    "type CharMap = Map.Map String Int\n"
   ]
  },
  {
   "cell_type": "code",
   "execution_count": null,
   "metadata": {},
   "outputs": [],
   "source": [
    "data Tokenizer = Tokenizer\n",
    "    { \n",
    "        fullVocab :: CharMap,\n",
    "        pairs :: [(String, String)]\n",
    "    } deriving (Generic)"
   ]
  },
  {
   "cell_type": "code",
   "execution_count": 29,
   "metadata": {},
   "outputs": [],
   "source": [
    "loadJSON :: FilePath -> IO (Maybe CharMap)\n",
    "loadJSON filePath = do\n",
    "  content <- B.readFile filePath\n",
    "  return $ decode content"
   ]
  },
  {
   "cell_type": "code",
   "execution_count": 30,
   "metadata": {},
   "outputs": [],
   "source": [
    "readFileToPairs :: FilePath -> String -> IO [(String, String)]\n",
    "readFileToPairs filePath delimiter = do\n",
    "    content <- readFile filePath\n",
    "    let lines' = lines content         -- Diviser en lignes\n",
    "        pairs = map (toPair delimiter) lines'   -- Convertir chaque ligne en tuple\n",
    "    return pairs\n",
    "  where\n",
    "    -- Fonction pour convertir une ligne en tuple (s1, s2)\n",
    "    toPair :: String -> String -> (String, String)\n",
    "    toPair delim line = \n",
    "        case splitOn delim line of\n",
    "            [first, second] -> (first, second)  -- Cas normal: deux parties\n"
   ]
  },
  {
   "cell_type": "code",
   "execution_count": 31,
   "metadata": {},
   "outputs": [],
   "source": [
    "loadWordsJson :: String -> IO [B.ByteString]\n",
    "loadWordsJson path = do\n",
    "  jsonData <- BL.readFile path\n",
    "  case decode jsonData of\n",
    "    Just wordList -> return $ map BL.pack wordList\n",
    "    Nothing -> do\n",
    "      putStrLn $ \"Error: Could not decode JSON from \" ++ path\n",
    "      return []"
   ]
  },
  {
   "cell_type": "code",
   "execution_count": 32,
   "metadata": {
    "tags": []
   },
   "outputs": [],
   "source": [
    "maybeVocab <- loadJSON \"vocab.json\""
   ]
  },
  {
   "cell_type": "code",
   "execution_count": 33,
   "metadata": {
    "tags": []
   },
   "outputs": [],
   "source": [
    "pairs <- readFileToPairs \"merges.txt\" \" \""
   ]
  },
  {
   "cell_type": "code",
   "execution_count": 34,
   "metadata": {},
   "outputs": [
    {
     "data": {
      "text/plain": [
       "[\"Hello\",\"World\",\"!\",\"How\",\"are\",\"you\"]"
      ]
     },
     "metadata": {},
     "output_type": "display_data"
    }
   ],
   "source": [
    "loadWordsJson \"words.json\""
   ]
  },
  {
   "cell_type": "code",
   "execution_count": 35,
   "metadata": {
    "tags": []
   },
   "outputs": [
    {
     "data": {
      "text/plain": []
     },
     "metadata": {},
     "output_type": "display_data"
    }
   ],
   "source": [
    "getVocab :: Maybe CharMap -> IO CharMap\n",
    "getVocab maybeVocab =\n",
    "    case maybeVocab of\n",
    "        Just vocab -> return vocab\n",
    "        Nothing    -> do\n",
    "            putStrLn \"Erreur: vocab non chargé\"\n",
    "            return Map.empty\n",
    "    \n",
    "fullVocab <- getVocab maybeVocab"
   ]
  },
  {
   "cell_type": "code",
   "execution_count": null,
   "metadata": {},
   "outputs": [],
   "source": [
    "initializeTokenizer :: FilePath -> FilePath -> Tokenizer\n",
    "initializeTokenizer vocabPath mergePath =\n",
    "    maybeVocab <- loadJSON vocabPath\n",
    "    mergePairs <- readFileToPairs mergePath \" \"\n",
    "    { \n",
    "        fullVocab <- getVocab maybeVocab,\n",
    "        pairs <- readFileToPairs mergePath \" \"\n",
    "        \n",
    "    }\n",
    "    \n"
   ]
  },
  {
   "cell_type": "code",
   "execution_count": 36,
   "metadata": {},
   "outputs": [],
   "source": [
    "toByte :: FilePath -> IO String\n",
    "toByte path = do\n",
    "    bs <- BS.readFile path\n",
    "    let toW8 = BS.unpack bs\n",
    "    return (BSU.toString (BS.pack toW8))"
   ]
  },
  {
   "cell_type": "code",
   "execution_count": 37,
   "metadata": {},
   "outputs": [
    {
     "data": {
      "text/plain": [
       "Salut,ĠjeĠm'appelĠévan,Ġj'aiĠ20Ġans,ĠetĠmeĠvoilaĠenĠtrainĠdeĠprogrammerĠunĠtokenizerĠhahahahĠ😀"
      ]
     },
     "metadata": {},
     "output_type": "display_data"
    }
   ],
   "source": [
    "replaceSpace :: String -> String\n",
    "replaceSpace input = \n",
    "    T.unpack (T.replace (T.pack \" \") (T.pack \"Ġ\") (T.pack input))\n",
    "    \n",
    "\n",
    "input <- toByte \"testTexte.txt\"\n",
    "inputNoSpace = replaceSpace input\n",
    "putStrLn inputNoSpace\n"
   ]
  },
  {
   "cell_type": "code",
   "execution_count": 38,
   "metadata": {},
   "outputs": [],
   "source": [
    "makeStrArray :: String -> [String]\n",
    "makeStrArray =\n",
    "    map (:[])\n",
    "aStrNoSpace = makeStrArray inputNoSpace\n"
   ]
  },
  {
   "cell_type": "code",
   "execution_count": 39,
   "metadata": {},
   "outputs": [
    {
     "data": {
      "text/html": [
       "<style>/* Styles used for the Hoogle display in the pager */\n",
       ".hoogle-doc {\n",
       "display: block;\n",
       "padding-bottom: 1.3em;\n",
       "padding-left: 0.4em;\n",
       "}\n",
       ".hoogle-code {\n",
       "display: block;\n",
       "font-family: monospace;\n",
       "white-space: pre;\n",
       "}\n",
       ".hoogle-text {\n",
       "display: block;\n",
       "}\n",
       ".hoogle-name {\n",
       "color: green;\n",
       "font-weight: bold;\n",
       "}\n",
       ".hoogle-head {\n",
       "font-weight: bold;\n",
       "}\n",
       ".hoogle-sub {\n",
       "display: block;\n",
       "margin-left: 0.4em;\n",
       "}\n",
       ".hoogle-package {\n",
       "font-weight: bold;\n",
       "font-style: italic;\n",
       "}\n",
       ".hoogle-module {\n",
       "font-weight: bold;\n",
       "}\n",
       ".hoogle-class {\n",
       "font-weight: bold;\n",
       "}\n",
       ".get-type {\n",
       "color: green;\n",
       "font-weight: bold;\n",
       "font-family: monospace;\n",
       "display: block;\n",
       "white-space: pre-wrap;\n",
       "}\n",
       ".show-type {\n",
       "color: green;\n",
       "font-weight: bold;\n",
       "font-family: monospace;\n",
       "margin-left: 1em;\n",
       "}\n",
       ".mono {\n",
       "font-family: monospace;\n",
       "display: block;\n",
       "}\n",
       ".err-msg {\n",
       "color: red;\n",
       "font-style: italic;\n",
       "font-family: monospace;\n",
       "white-space: pre;\n",
       "display: block;\n",
       "}\n",
       "#unshowable {\n",
       "color: red;\n",
       "font-weight: bold;\n",
       "}\n",
       ".err-msg.in.collapse {\n",
       "padding-top: 0.7em;\n",
       "}\n",
       ".highlight-code {\n",
       "white-space: pre;\n",
       "font-family: monospace;\n",
       "}\n",
       ".suggestion-warning { \n",
       "font-weight: bold;\n",
       "color: rgb(200, 130, 0);\n",
       "}\n",
       ".suggestion-error { \n",
       "font-weight: bold;\n",
       "color: red;\n",
       "}\n",
       ".suggestion-name {\n",
       "font-weight: bold;\n",
       "}\n",
       "</style><div class=\"suggestion-name\" style=\"clear:both;\">Use foldl</div><div class=\"suggestion-row\" style=\"float: left;\"><div class=\"suggestion-warning\">Found:</div><div class=\"highlight-code\" id=\"haskell\">merges [] tokens = tokens\n",
       "merges (pair : pairs) tokens = merges pairs (merge pair tokens)</div></div><div class=\"suggestion-row\" style=\"float: left;\"><div class=\"suggestion-warning\">Why Not:</div><div class=\"highlight-code\" id=\"haskell\">merges pairs tokens = foldl (flip merge) tokens pairs</div></div>"
      ],
      "text/plain": [
       "Line 2: Use foldl\n",
       "Found:\n",
       "merges [] tokens = tokens\n",
       "merges (pair : pairs) tokens = merges pairs (merge pair tokens)\n",
       "Why not:\n",
       "merges pairs tokens = foldl (flip merge) tokens pairs"
      ]
     },
     "metadata": {},
     "output_type": "display_data"
    },
    {
     "data": {
      "text/plain": [
       "Sal ut , Ġje Ġm ' app el Ġé van , Ġj ' ai Ġ20 Ġans , Ġet Ġme Ġvo ila Ġen Ġtrain Ġde Ġprogrammer Ġun Ġtoken izer Ġha h ahah Ġ 😀"
      ]
     },
     "metadata": {},
     "output_type": "display_data"
    }
   ],
   "source": [
    "merges :: [(String, String)] -> [String] -> [String]\n",
    "merges [] tokens = tokens\n",
    "merges (pair:pairs) tokens = merges pairs (merge pair tokens)\n",
    "    \n",
    "merge :: (String, String) -> [String] -> [String]\n",
    "merge _ [] = []\n",
    "merge _ [x] = [x]\n",
    "merge (a, b) (x1:x2:xs)\n",
    "  | x1 == a && x2 == b = (a ++ b) : merge (a, b) xs\n",
    "  | otherwise          = x1 : merge (a, b) (x2:xs)\n",
    "        \n",
    "        \n",
    "tokenize = merges pairs aStrNoSpace\n",
    "putStrLn (unwords tokenize)"
   ]
  },
  {
   "cell_type": "code",
   "execution_count": 40,
   "metadata": {},
   "outputs": [
    {
     "data": {
      "text/html": [
       "<style>/* Styles used for the Hoogle display in the pager */\n",
       ".hoogle-doc {\n",
       "display: block;\n",
       "padding-bottom: 1.3em;\n",
       "padding-left: 0.4em;\n",
       "}\n",
       ".hoogle-code {\n",
       "display: block;\n",
       "font-family: monospace;\n",
       "white-space: pre;\n",
       "}\n",
       ".hoogle-text {\n",
       "display: block;\n",
       "}\n",
       ".hoogle-name {\n",
       "color: green;\n",
       "font-weight: bold;\n",
       "}\n",
       ".hoogle-head {\n",
       "font-weight: bold;\n",
       "}\n",
       ".hoogle-sub {\n",
       "display: block;\n",
       "margin-left: 0.4em;\n",
       "}\n",
       ".hoogle-package {\n",
       "font-weight: bold;\n",
       "font-style: italic;\n",
       "}\n",
       ".hoogle-module {\n",
       "font-weight: bold;\n",
       "}\n",
       ".hoogle-class {\n",
       "font-weight: bold;\n",
       "}\n",
       ".get-type {\n",
       "color: green;\n",
       "font-weight: bold;\n",
       "font-family: monospace;\n",
       "display: block;\n",
       "white-space: pre-wrap;\n",
       "}\n",
       ".show-type {\n",
       "color: green;\n",
       "font-weight: bold;\n",
       "font-family: monospace;\n",
       "margin-left: 1em;\n",
       "}\n",
       ".mono {\n",
       "font-family: monospace;\n",
       "display: block;\n",
       "}\n",
       ".err-msg {\n",
       "color: red;\n",
       "font-style: italic;\n",
       "font-family: monospace;\n",
       "white-space: pre;\n",
       "display: block;\n",
       "}\n",
       "#unshowable {\n",
       "color: red;\n",
       "font-weight: bold;\n",
       "}\n",
       ".err-msg.in.collapse {\n",
       "padding-top: 0.7em;\n",
       "}\n",
       ".highlight-code {\n",
       "white-space: pre;\n",
       "font-family: monospace;\n",
       "}\n",
       ".suggestion-warning { \n",
       "font-weight: bold;\n",
       "color: rgb(200, 130, 0);\n",
       "}\n",
       ".suggestion-error { \n",
       "font-weight: bold;\n",
       "color: red;\n",
       "}\n",
       ".suggestion-name {\n",
       "font-weight: bold;\n",
       "}\n",
       "</style><div class=\"suggestion-name\" style=\"clear:both;\">Use zipWith</div><div class=\"suggestion-row\" style=\"float: left;\"><div class=\"suggestion-warning\">Found:</div><div class=\"highlight-code\" id=\"haskell\">map (\\ (t, i) -> t ++ \" -> \" ++ show i) (zip tokenize indexed)</div></div><div class=\"suggestion-row\" style=\"float: left;\"><div class=\"suggestion-warning\">Why Not:</div><div class=\"highlight-code\" id=\"haskell\">zipWith\n",
       "  (curry (\\ (t, i) -> t ++ \" -> \" ++ show i)) tokenize indexed</div></div>"
      ],
      "text/plain": [
       "Line 6: Use zipWith\n",
       "Found:\n",
       "map (\\ (t, i) -> t ++ \" -> \" ++ show i) (zip tokenize indexed)\n",
       "Why not:\n",
       "zipWith\n",
       "  (curry (\\ (t, i) -> t ++ \" -> \" ++ show i)) tokenize indexed"
      ]
     },
     "metadata": {},
     "output_type": "display_data"
    },
    {
     "data": {
      "text/plain": [
       "Sal -> 19221\n",
       "ut -> 315\n",
       ", -> 11\n",
       "Ġje -> 11223\n",
       "Ġm -> 285\n",
       "' -> 6\n",
       "app -> 1324\n",
       "el -> 417\n",
       "Ġé -> 16268\n",
       "van -> 10438\n",
       ", -> 11\n",
       "Ġj -> 474\n",
       "' -> 6\n",
       "ai -> 1872\n",
       "Ġ20 -> 1160\n",
       "Ġans -> 9093\n",
       ", -> 11\n",
       "Ġet -> 2123\n",
       "Ġme -> 502\n",
       "Ġvo -> 7608\n",
       "ila -> 10102\n",
       "Ġen -> 551\n",
       "Ġtrain -> 4512\n",
       "Ġde -> 390\n",
       "Ġprogrammer -> 24292\n",
       "Ġun -> 555\n",
       "Ġtoken -> 11241\n",
       "izer -> 7509\n",
       "Ġha -> 387\n",
       "h -> 71\n",
       "ahah -> 36225\n",
       "Ġ -> 220\n",
       "😀 -> 50257"
      ]
     },
     "metadata": {},
     "output_type": "display_data"
    },
    {
     "data": {
      "text/plain": [
       "[19221,315,11,11223,285,6,1324,417,16268,10438,11,474,6,1872,1160,9093,11,2123,502,7608,10102,551,4512,390,24292,555,11241,7509,387,71,36225,220,50257]"
      ]
     },
     "metadata": {},
     "output_type": "display_data"
    }
   ],
   "source": [
    "changeToIndex :: [String] -> [Int]\n",
    "changeToIndex =\n",
    "    map (\\c -> Map.findWithDefault 50257 c fullVocab)\n",
    "    \n",
    "indexed = changeToIndex tokenize\n",
    "putStrLn $ unlines $ map (\\(t, i) -> t ++ \" -> \" ++ show i) (zip tokenize indexed)\n",
    "indexed"
   ]
  },
  {
   "cell_type": "code",
   "execution_count": 41,
   "metadata": {},
   "outputs": [
    {
     "data": {
      "text/html": [
       "<style>/* Styles used for the Hoogle display in the pager */\n",
       ".hoogle-doc {\n",
       "display: block;\n",
       "padding-bottom: 1.3em;\n",
       "padding-left: 0.4em;\n",
       "}\n",
       ".hoogle-code {\n",
       "display: block;\n",
       "font-family: monospace;\n",
       "white-space: pre;\n",
       "}\n",
       ".hoogle-text {\n",
       "display: block;\n",
       "}\n",
       ".hoogle-name {\n",
       "color: green;\n",
       "font-weight: bold;\n",
       "}\n",
       ".hoogle-head {\n",
       "font-weight: bold;\n",
       "}\n",
       ".hoogle-sub {\n",
       "display: block;\n",
       "margin-left: 0.4em;\n",
       "}\n",
       ".hoogle-package {\n",
       "font-weight: bold;\n",
       "font-style: italic;\n",
       "}\n",
       ".hoogle-module {\n",
       "font-weight: bold;\n",
       "}\n",
       ".hoogle-class {\n",
       "font-weight: bold;\n",
       "}\n",
       ".get-type {\n",
       "color: green;\n",
       "font-weight: bold;\n",
       "font-family: monospace;\n",
       "display: block;\n",
       "white-space: pre-wrap;\n",
       "}\n",
       ".show-type {\n",
       "color: green;\n",
       "font-weight: bold;\n",
       "font-family: monospace;\n",
       "margin-left: 1em;\n",
       "}\n",
       ".mono {\n",
       "font-family: monospace;\n",
       "display: block;\n",
       "}\n",
       ".err-msg {\n",
       "color: red;\n",
       "font-style: italic;\n",
       "font-family: monospace;\n",
       "white-space: pre;\n",
       "display: block;\n",
       "}\n",
       "#unshowable {\n",
       "color: red;\n",
       "font-weight: bold;\n",
       "}\n",
       ".err-msg.in.collapse {\n",
       "padding-top: 0.7em;\n",
       "}\n",
       ".highlight-code {\n",
       "white-space: pre;\n",
       "font-family: monospace;\n",
       "}\n",
       ".suggestion-warning { \n",
       "font-weight: bold;\n",
       "color: rgb(200, 130, 0);\n",
       "}\n",
       ".suggestion-error { \n",
       "font-weight: bold;\n",
       "color: red;\n",
       "}\n",
       ".suggestion-name {\n",
       "font-weight: bold;\n",
       "}\n",
       "</style><div class=\"suggestion-name\" style=\"clear:both;\">Use concatMap</div><div class=\"suggestion-row\" style=\"float: left;\"><div class=\"suggestion-warning\">Found:</div><div class=\"highlight-code\" id=\"haskell\">concat (map (\\ i -> Map.findWithDefault \"?\" i idsKey) tokensId)</div></div><div class=\"suggestion-row\" style=\"float: left;\"><div class=\"suggestion-warning\">Why Not:</div><div class=\"highlight-code\" id=\"haskell\">concatMap (\\ i -> Map.findWithDefault \"?\" i idsKey) tokensId</div></div>"
      ],
      "text/plain": [
       "Line 4: Use concatMap\n",
       "Found:\n",
       "concat (map (\\ i -> Map.findWithDefault \"?\" i idsKey) tokensId)\n",
       "Why not:\n",
       "concatMap (\\ i -> Map.findWithDefault \"?\" i idsKey) tokensId"
      ]
     },
     "metadata": {},
     "output_type": "display_data"
    }
   ],
   "source": [
    "untokenizer :: [Int] -> CharMap -> String\n",
    "untokenizer tokensId strKey =\n",
    "    let idsKey = reverseMap strKey\n",
    "        find = concat (map (\\i -> Map.findWithDefault \"?\" i idsKey) tokensId)\n",
    "        result = T.unpack (T.replace (T.pack \"Ġ\") (T.pack \" \") (T.pack find))\n",
    "    in result\n",
    "\n",
    "reverseMap :: CharMap -> Map.Map Int String\n",
    "reverseMap vocabMap =\n",
    "    let vocab = Map.toList vocabMap\n",
    "        reverseVocab = map (\\(a, b) -> (b, a)) vocab\n",
    "    in Map.fromList reverseVocab\n"
   ]
  },
  {
   "cell_type": "code",
   "execution_count": 42,
   "metadata": {},
   "outputs": [
    {
     "data": {
      "text/plain": [
       "Salut, je m'appel évan, j'ai 20 ans, et me voila en train de programmer un tokenizer hahahah smiley"
      ]
     },
     "metadata": {},
     "output_type": "display_data"
    }
   ],
   "source": [
    "putStrLn (untokenizer indexed fullVocab)"
   ]
  },
  {
   "cell_type": "code",
   "execution_count": null,
   "metadata": {},
   "outputs": [],
   "source": [
    "tokenize :: BS.ByteString -> [Int]\n"
   ]
  }
 ],
 "metadata": {
  "kernelspec": {
   "display_name": "Haskell",
   "language": "haskell",
   "name": "haskell"
  },
  "language_info": {
   "codemirror_mode": "ihaskell",
   "file_extension": ".hs",
   "mimetype": "text/x-haskell",
   "name": "haskell",
   "pygments_lexer": "Haskell",
   "version": "9.2.5"
  }
 },
 "nbformat": 4,
 "nbformat_minor": 4
}

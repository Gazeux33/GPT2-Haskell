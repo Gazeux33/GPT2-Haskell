{
 "cells": [
  {
   "cell_type": "code",
   "execution_count": 39,
   "id": "ba24a4bf",
   "metadata": {},
   "outputs": [],
   "source": [
    "import Torch\n",
    "import qualified Torch.Functional as F\n",
    "import qualified Torch.Functional.Internal as FI\n"
   ]
  },
  {
   "cell_type": "code",
   "execution_count": 40,
   "id": "173a12ce",
   "metadata": {},
   "outputs": [],
   "source": [
    "let batchSize = 16\n",
    "    seqLen = 10\n",
    "    vocabSize = 100"
   ]
  },
  {
   "cell_type": "code",
   "execution_count": 41,
   "id": "e390998a",
   "metadata": {},
   "outputs": [],
   "source": [
    "randInt :: [Int] -> Int -> Int -> IO Tensor\n",
    "randInt dims min max = do\n",
    "    let size = map fromIntegral dims\n",
    "    randomTensor <- randIO' size\n",
    "    let scaledTensor = F.mul (F.add randomTensor (asTensor (-min))) (asTensor (max - min))\n",
    "    return $ F.toDType Int64 (F.floor scaledTensor)"
   ]
  },
  {
   "cell_type": "code",
   "execution_count": 42,
   "id": "f76f77c4",
   "metadata": {},
   "outputs": [
    {
     "data": {
      "text/plain": [
       "[160,100]"
      ]
     },
     "metadata": {},
     "output_type": "display_data"
    },
    {
     "data": {
      "text/plain": [
       "[160]"
      ]
     },
     "metadata": {},
     "output_type": "display_data"
    }
   ],
   "source": [
    "\n",
    "\n",
    "output <- randIO' [batchSize* seqLen , vocabSize] \n",
    "target <- randInt [batchSize * seqLen] 0 (vocabSize - 1)\n",
    "shape output\n",
    "shape target"
   ]
  },
  {
   "cell_type": "code",
   "execution_count": 43,
   "id": "4df24c36",
   "metadata": {},
   "outputs": [
    {
     "data": {
      "text/plain": [
       "[]"
      ]
     },
     "metadata": {},
     "output_type": "display_data"
    }
   ],
   "source": [
    "-- cross_entropy_loss\n",
    "-- :: Tensor\tself\n",
    "-- -> Tensor\ttarget\n",
    "-- -> Tensor\tweight\n",
    "-- -> Int reduction\n",
    "-- -> Int ignore_index\n",
    "-- -> Double\tlabel_smoothing\n",
    "-- -> Tensor\t \n",
    "weight = ones' [vocabSize]\n",
    "loss = FI.cross_entropy_loss output target weight 1 (-100) 0.0\n",
    "shape loss"
   ]
  },
  {
   "cell_type": "code",
   "execution_count": null,
   "id": "da48e49b",
   "metadata": {},
   "outputs": [
    {
     "data": {
      "text/plain": [
       "Tensor Float []  4.6268"
      ]
     },
     "metadata": {},
     "output_type": "display_data"
    },
    {
     "ename": "",
     "evalue": "",
     "output_type": "error",
     "traceback": [
      "\u001b[1;31mThe Kernel crashed while executing code in the current cell or a previous cell. \n",
      "\u001b[1;31mPlease review the code in the cell(s) to identify a possible cause of the failure. \n",
      "\u001b[1;31mClick <a href='https://aka.ms/vscodeJupyterKernelCrash'>here</a> for more info. \n",
      "\u001b[1;31mView Jupyter <a href='command:jupyter.viewOutput'>log</a> for further details."
     ]
    }
   ],
   "source": [
    "loss"
   ]
  }
 ],
 "metadata": {
  "kernelspec": {
   "display_name": "Haskell",
   "language": "haskell",
   "name": "haskell"
  },
  "language_info": {
   "codemirror_mode": "ihaskell",
   "file_extension": ".hs",
   "mimetype": "text/x-haskell",
   "name": "haskell",
   "pygments_lexer": "Haskell",
   "version": "9.2.5"
  }
 },
 "nbformat": 4,
 "nbformat_minor": 5
}
